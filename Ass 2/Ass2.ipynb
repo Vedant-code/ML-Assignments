{
 "cells": [
  {
   "cell_type": "code",
   "execution_count": 2,
   "id": "96d32a13",
   "metadata": {},
   "outputs": [],
   "source": [
    "import pandas as pd\n",
    "data = pd.read_csv(\"C:/Users/Lenovo/Desktop/College/Sem 6/ML Ass/gld_price_data.csv\")"
   ]
  },
  {
   "cell_type": "code",
   "execution_count": 3,
   "id": "e0ef8cf3",
   "metadata": {},
   "outputs": [
    {
     "data": {
      "text/plain": [
       "(2290, 6)"
      ]
     },
     "execution_count": 3,
     "metadata": {},
     "output_type": "execute_result"
    }
   ],
   "source": [
    "data.shape"
   ]
  },
  {
   "cell_type": "code",
   "execution_count": 4,
   "id": "99157a6d",
   "metadata": {},
   "outputs": [
    {
     "name": "stdout",
     "output_type": "stream",
     "text": [
      "<bound method NDFrame.head of            Date          SPX         GLD        USO      SLV   EUR/USD\n",
      "0      1/2/2008  1447.160034   84.860001  78.470001  15.1800  1.471692\n",
      "1      1/3/2008  1447.160034   85.570000  78.370003  15.2850  1.474491\n",
      "2      1/4/2008  1411.630005   85.129997  77.309998  15.1670  1.475492\n",
      "3      1/7/2008  1416.180054   84.769997  75.500000  15.0530  1.468299\n",
      "4      1/8/2008  1390.189941   86.779999  76.059998  15.5900  1.557099\n",
      "...         ...          ...         ...        ...      ...       ...\n",
      "2285   5/8/2018  2671.919922  124.589996  14.060000  15.5100  1.186789\n",
      "2286   5/9/2018  2697.790039  124.330002  14.370000  15.5300  1.184722\n",
      "2287  5/10/2018  2723.070068  125.180000  14.410000  15.7400  1.191753\n",
      "2288  5/14/2018  2730.129883  124.489998  14.380000  15.5600  1.193118\n",
      "2289  5/16/2018  2725.780029  122.543800  14.405800  15.4542  1.182033\n",
      "\n",
      "[2290 rows x 6 columns]>\n",
      "Date        object\n",
      "SPX        float64\n",
      "GLD        float64\n",
      "USO        float64\n",
      "SLV        float64\n",
      "EUR/USD    float64\n",
      "dtype: object\n"
     ]
    }
   ],
   "source": [
    "print(data.head)\n",
    "print(data.dtypes)"
   ]
  },
  {
   "cell_type": "code",
   "execution_count": 5,
   "id": "7dd86a1f",
   "metadata": {},
   "outputs": [
    {
     "data": {
      "text/plain": [
       "Date       0\n",
       "SPX        0\n",
       "GLD        0\n",
       "USO        0\n",
       "SLV        0\n",
       "EUR/USD    0\n",
       "dtype: int64"
      ]
     },
     "execution_count": 5,
     "metadata": {},
     "output_type": "execute_result"
    }
   ],
   "source": [
    "data.isnull().sum() "
   ]
  },
  {
   "cell_type": "code",
   "execution_count": 6,
   "id": "77786717",
   "metadata": {},
   "outputs": [
    {
     "data": {
      "text/html": [
       "<div>\n",
       "<style scoped>\n",
       "    .dataframe tbody tr th:only-of-type {\n",
       "        vertical-align: middle;\n",
       "    }\n",
       "\n",
       "    .dataframe tbody tr th {\n",
       "        vertical-align: top;\n",
       "    }\n",
       "\n",
       "    .dataframe thead th {\n",
       "        text-align: right;\n",
       "    }\n",
       "</style>\n",
       "<table border=\"1\" class=\"dataframe\">\n",
       "  <thead>\n",
       "    <tr style=\"text-align: right;\">\n",
       "      <th></th>\n",
       "      <th>SPX</th>\n",
       "      <th>GLD</th>\n",
       "      <th>USO</th>\n",
       "      <th>SLV</th>\n",
       "      <th>EUR/USD</th>\n",
       "    </tr>\n",
       "  </thead>\n",
       "  <tbody>\n",
       "    <tr>\n",
       "      <th>count</th>\n",
       "      <td>2290.000000</td>\n",
       "      <td>2290.000000</td>\n",
       "      <td>2290.000000</td>\n",
       "      <td>2290.000000</td>\n",
       "      <td>2290.000000</td>\n",
       "    </tr>\n",
       "    <tr>\n",
       "      <th>mean</th>\n",
       "      <td>1654.315776</td>\n",
       "      <td>122.732875</td>\n",
       "      <td>31.842221</td>\n",
       "      <td>20.084997</td>\n",
       "      <td>1.283653</td>\n",
       "    </tr>\n",
       "    <tr>\n",
       "      <th>std</th>\n",
       "      <td>519.111540</td>\n",
       "      <td>23.283346</td>\n",
       "      <td>19.523517</td>\n",
       "      <td>7.092566</td>\n",
       "      <td>0.131547</td>\n",
       "    </tr>\n",
       "    <tr>\n",
       "      <th>min</th>\n",
       "      <td>676.530029</td>\n",
       "      <td>70.000000</td>\n",
       "      <td>7.960000</td>\n",
       "      <td>8.850000</td>\n",
       "      <td>1.039047</td>\n",
       "    </tr>\n",
       "    <tr>\n",
       "      <th>25%</th>\n",
       "      <td>1239.874969</td>\n",
       "      <td>109.725000</td>\n",
       "      <td>14.380000</td>\n",
       "      <td>15.570000</td>\n",
       "      <td>1.171313</td>\n",
       "    </tr>\n",
       "    <tr>\n",
       "      <th>50%</th>\n",
       "      <td>1551.434998</td>\n",
       "      <td>120.580002</td>\n",
       "      <td>33.869999</td>\n",
       "      <td>17.268500</td>\n",
       "      <td>1.303297</td>\n",
       "    </tr>\n",
       "    <tr>\n",
       "      <th>75%</th>\n",
       "      <td>2073.010070</td>\n",
       "      <td>132.840004</td>\n",
       "      <td>37.827501</td>\n",
       "      <td>22.882500</td>\n",
       "      <td>1.369971</td>\n",
       "    </tr>\n",
       "    <tr>\n",
       "      <th>max</th>\n",
       "      <td>2872.870117</td>\n",
       "      <td>184.589996</td>\n",
       "      <td>117.480003</td>\n",
       "      <td>47.259998</td>\n",
       "      <td>1.598798</td>\n",
       "    </tr>\n",
       "  </tbody>\n",
       "</table>\n",
       "</div>"
      ],
      "text/plain": [
       "               SPX          GLD          USO          SLV      EUR/USD\n",
       "count  2290.000000  2290.000000  2290.000000  2290.000000  2290.000000\n",
       "mean   1654.315776   122.732875    31.842221    20.084997     1.283653\n",
       "std     519.111540    23.283346    19.523517     7.092566     0.131547\n",
       "min     676.530029    70.000000     7.960000     8.850000     1.039047\n",
       "25%    1239.874969   109.725000    14.380000    15.570000     1.171313\n",
       "50%    1551.434998   120.580002    33.869999    17.268500     1.303297\n",
       "75%    2073.010070   132.840004    37.827501    22.882500     1.369971\n",
       "max    2872.870117   184.589996   117.480003    47.259998     1.598798"
      ]
     },
     "execution_count": 6,
     "metadata": {},
     "output_type": "execute_result"
    }
   ],
   "source": [
    "data.describe()"
   ]
  },
  {
   "cell_type": "code",
   "execution_count": 31,
   "id": "cc41a4bd",
   "metadata": {},
   "outputs": [
    {
     "data": {
      "text/html": [
       "<div>\n",
       "<style scoped>\n",
       "    .dataframe tbody tr th:only-of-type {\n",
       "        vertical-align: middle;\n",
       "    }\n",
       "\n",
       "    .dataframe tbody tr th {\n",
       "        vertical-align: top;\n",
       "    }\n",
       "\n",
       "    .dataframe thead th {\n",
       "        text-align: right;\n",
       "    }\n",
       "</style>\n",
       "<table border=\"1\" class=\"dataframe\">\n",
       "  <thead>\n",
       "    <tr style=\"text-align: right;\">\n",
       "      <th></th>\n",
       "      <th>USO</th>\n",
       "    </tr>\n",
       "  </thead>\n",
       "  <tbody>\n",
       "    <tr>\n",
       "      <th>count</th>\n",
       "      <td>2290.000000</td>\n",
       "    </tr>\n",
       "    <tr>\n",
       "      <th>mean</th>\n",
       "      <td>31.842221</td>\n",
       "    </tr>\n",
       "    <tr>\n",
       "      <th>std</th>\n",
       "      <td>19.523517</td>\n",
       "    </tr>\n",
       "    <tr>\n",
       "      <th>min</th>\n",
       "      <td>7.960000</td>\n",
       "    </tr>\n",
       "    <tr>\n",
       "      <th>1%</th>\n",
       "      <td>8.927800</td>\n",
       "    </tr>\n",
       "    <tr>\n",
       "      <th>10%</th>\n",
       "      <td>10.568000</td>\n",
       "    </tr>\n",
       "    <tr>\n",
       "      <th>30%</th>\n",
       "      <td>18.650000</td>\n",
       "    </tr>\n",
       "    <tr>\n",
       "      <th>50%</th>\n",
       "      <td>33.869999</td>\n",
       "    </tr>\n",
       "    <tr>\n",
       "      <th>75%</th>\n",
       "      <td>37.827501</td>\n",
       "    </tr>\n",
       "    <tr>\n",
       "      <th>90%</th>\n",
       "      <td>41.333002</td>\n",
       "    </tr>\n",
       "    <tr>\n",
       "      <th>99%</th>\n",
       "      <td>106.696399</td>\n",
       "    </tr>\n",
       "    <tr>\n",
       "      <th>100%</th>\n",
       "      <td>117.480003</td>\n",
       "    </tr>\n",
       "    <tr>\n",
       "      <th>max</th>\n",
       "      <td>117.480003</td>\n",
       "    </tr>\n",
       "  </tbody>\n",
       "</table>\n",
       "</div>"
      ],
      "text/plain": [
       "               USO\n",
       "count  2290.000000\n",
       "mean     31.842221\n",
       "std      19.523517\n",
       "min       7.960000\n",
       "1%        8.927800\n",
       "10%      10.568000\n",
       "30%      18.650000\n",
       "50%      33.869999\n",
       "75%      37.827501\n",
       "90%      41.333002\n",
       "99%     106.696399\n",
       "100%    117.480003\n",
       "max     117.480003"
      ]
     },
     "execution_count": 31,
     "metadata": {},
     "output_type": "execute_result"
    }
   ],
   "source": [
    "#Checking different percentiles\n",
    "pd.DataFrame(data['USO']).describe(percentiles=(1,0.99,0.9,0.75,0.5,0.3,0.1,0.01))"
   ]
  },
  {
   "cell_type": "code",
   "execution_count": 7,
   "id": "52fb7847",
   "metadata": {},
   "outputs": [
    {
     "data": {
      "image/png": "[encoded data removed]",
      "text/plain": [
       "<Figure size 432x288 with 1 Axes>"
      ]
     },
     "metadata": {
      "needs_background": "light"
     },
     "output_type": "display_data"
    }
   ],
   "source": [
    "#checking boxplot for Age column\n",
    "import matplotlib.pyplot as plt\n",
    "%matplotlib inline\n",
    "plt.boxplot(data['GLD'])\n",
    "plt.show()"
   ]
  },
  {
   "cell_type": "code",
   "execution_count": 8,
   "id": "a1267fac",
   "metadata": {},
   "outputs": [
    {
     "data": {
      "image/png": "[encoded data removed]",
      "text/plain": [
       "<Figure size 432x288 with 1 Axes>"
      ]
     },
     "metadata": {
      "needs_background": "light"
     },
     "output_type": "display_data"
    }
   ],
   "source": [
    "#checking boxplot for Age column\n",
    "import matplotlib.pyplot as plt\n",
    "%matplotlib inline\n",
    "plt.boxplot(data['USO'])\n",
    "plt.show()"
   ]
  },
  {
   "cell_type": "code",
   "execution_count": 9,
   "id": "98e37ed6",
   "metadata": {},
   "outputs": [
    {
     "data": {
      "image/png": "[encoded data removed]",
      "text/plain": [
       "<Figure size 432x288 with 1 Axes>"
      ]
     },
     "metadata": {
      "needs_background": "light"
     },
     "output_type": "display_data"
    }
   ],
   "source": [
    "#checking boxplot for Age column\n",
    "import matplotlib.pyplot as plt\n",
    "%matplotlib inline\n",
    "plt.boxplot(data['SLV'])\n",
    "plt.show()"
   ]
  },
  {
   "cell_type": "code",
   "execution_count": 10,
   "id": "82363e9a",
   "metadata": {},
   "outputs": [
    {
     "data": {
      "image/png": "[encoded data removed]",
      "text/plain": [
       "<Figure size 432x288 with 1 Axes>"
      ]
     },
     "metadata": {
      "needs_background": "light"
     },
     "output_type": "display_data"
    }
   ],
   "source": [
    "#checking boxplot for Age column\n",
    "import matplotlib.pyplot as plt\n",
    "%matplotlib inline\n",
    "plt.boxplot(data['EUR/USD'])\n",
    "plt.show()"
   ]
  },
  {
   "cell_type": "code",
   "execution_count": 11,
   "id": "3f972193",
   "metadata": {},
   "outputs": [
    {
     "data": {
      "image/png": "[encoded data removed]",
      "text/plain": [
       "<Figure size 432x288 with 1 Axes>"
      ]
     },
     "metadata": {
      "needs_background": "light"
     },
     "output_type": "display_data"
    }
   ],
   "source": [
    "#checking boxplot for Age column\n",
    "import matplotlib.pyplot as plt\n",
    "%matplotlib inline\n",
    "plt.boxplot(data['SPX'])\n",
    "plt.show()"
   ]
  },
  {
   "cell_type": "code",
   "execution_count": 12,
   "id": "3881aedb",
   "metadata": {},
   "outputs": [],
   "source": [
    "#Checking Outlier by definition and treating outliers\n",
    "\n",
    "#getting median Age\n",
    "GLD_col_df = pd.DataFrame(data['GLD'])\n",
    "GLD_median = GLD_col_df.median()\n",
    "\n",
    "#getting IQR of Age column\n",
    "Q3 = GLD_col_df.quantile(q=0.75)\n",
    "Q1 = GLD_col_df.quantile(q=0.25)\n",
    "IQR = Q3-Q1\n",
    "\n",
    "#Deriving boundaries of Outliers\n",
    "IQR_LL = int(Q1 - 1.5*IQR)\n",
    "IQR_UL = int(Q3 + 1.5*IQR)\n",
    "\n",
    "#Finding and treating outliers - both lower and upper end\n",
    "data.loc[data['GLD']>IQR_UL , 'GLD'] = int(GLD_col_df.quantile(q=0.90))\n",
    "data.loc[data['GLD']<IQR_LL , 'GLD'] = int(GLD_col_df.quantile(q=0.01))"
   ]
  },
  {
   "cell_type": "code",
   "execution_count": 13,
   "id": "c7f72e9e",
   "metadata": {},
   "outputs": [
    {
     "data": {
      "image/png": "[encoded data removed]",
      "text/plain": [
       "<Figure size 432x288 with 1 Axes>"
      ]
     },
     "metadata": {
      "needs_background": "light"
     },
     "output_type": "display_data"
    }
   ],
   "source": [
    "#Check max age value now\n",
    "max(data['GLD'])\n",
    "plt.boxplot(data['GLD'])\n",
    "plt.show()"
   ]
  },
  {
   "cell_type": "code",
   "execution_count": 14,
   "id": "204fc3dd",
   "metadata": {},
   "outputs": [
    {
     "data": {
      "image/png": "[encoded data removed]",
      "text/plain": [
       "<Figure size 432x288 with 1 Axes>"
      ]
     },
     "metadata": {
      "needs_background": "light"
     },
     "output_type": "display_data"
    }
   ],
   "source": [
    "x = data[\"GLD\"]\n",
    "y=  data[\"EUR/USD\"]\n",
    "plt.scatter(x, y)\n",
    "plt.title('Gold vs EUR/USD')\n",
    "plt.xlabel('GLD')\n",
    "plt.ylabel('EUR/USD')\n",
    "plt.show()"
   ]
  },
  {
   "cell_type": "code",
   "execution_count": 16,
   "id": "169a9d9d",
   "metadata": {},
   "outputs": [
    {
     "name": "stderr",
     "output_type": "stream",
     "text": [
      "C:\\ProgramData\\Anaconda3\\lib\\site-packages\\seaborn\\distributions.py:2619: FutureWarning: `distplot` is a deprecated function and will be removed in a future version. Please adapt your code to use either `displot` (a figure-level function with similar flexibility) or `histplot` (an axes-level function for histograms).\n",
      "  warnings.warn(msg, FutureWarning)\n"
     ]
    },
    {
     "data": {
      "text/plain": [
       "<AxesSubplot:xlabel='GLD', ylabel='Density'>"
      ]
     },
     "execution_count": 16,
     "metadata": {},
     "output_type": "execute_result"
    },
    {
     "data": {
      "image/png": "[encoded data removed]",
      "text/plain": [
       "<Figure size 432x288 with 1 Axes>"
      ]
     },
     "metadata": {
      "needs_background": "light"
     },
     "output_type": "display_data"
    }
   ],
   "source": [
    "import seaborn as sns\n",
    "sns.distplot(data['GLD'], color='red')"
   ]
  },
  {
   "cell_type": "code",
   "execution_count": 17,
   "id": "3d311069",
   "metadata": {},
   "outputs": [
    {
     "data": {
      "image/png": "[encoded data removed]",
      "text/plain": [
       "<Figure size 576x288 with 2 Axes>"
      ]
     },
     "metadata": {
      "needs_background": "light"
     },
     "output_type": "display_data"
    }
   ],
   "source": [
    "#check correltion matrix - to check the strength of variation bwtween two variables\n",
    "correlation_matrix= data.corr().round(2)\n",
    "fgr, ax = plt.subplots(figsize =(8, 4)) \n",
    "import seaborn as sns\n",
    "c = sns.heatmap(data=correlation_matrix, annot=True)\n",
    "fgr.savefig(\"myimage.png\")"
   ]
  },
  {
   "cell_type": "code",
   "execution_count": 18,
   "id": "9bd0d6a2",
   "metadata": {},
   "outputs": [],
   "source": [
    "X = data.drop(['Date', 'GLD'], axis=1)   #Features\n",
    "Y = data['GLD']    #Target"
   ]
  },
  {
   "cell_type": "code",
   "execution_count": 19,
   "id": "286aa816",
   "metadata": {},
   "outputs": [
    {
     "name": "stdout",
     "output_type": "stream",
     "text": [
      "              SPX        USO      SLV   EUR/USD\n",
      "0     1447.160034  78.470001  15.1800  1.471692\n",
      "1     1447.160034  78.370003  15.2850  1.474491\n",
      "2     1411.630005  77.309998  15.1670  1.475492\n",
      "3     1416.180054  75.500000  15.0530  1.468299\n",
      "4     1390.189941  76.059998  15.5900  1.557099\n",
      "...           ...        ...      ...       ...\n",
      "2285  2671.919922  14.060000  15.5100  1.186789\n",
      "2286  2697.790039  14.370000  15.5300  1.184722\n",
      "2287  2723.070068  14.410000  15.7400  1.191753\n",
      "2288  2730.129883  14.380000  15.5600  1.193118\n",
      "2289  2725.780029  14.405800  15.4542  1.182033\n",
      "\n",
      "[2290 rows x 4 columns]\n"
     ]
    }
   ],
   "source": [
    "print(X)"
   ]
  },
  {
   "cell_type": "code",
   "execution_count": 20,
   "id": "eb738d72",
   "metadata": {},
   "outputs": [
    {
     "name": "stdout",
     "output_type": "stream",
     "text": [
      "0        84.860001\n",
      "1        85.570000\n",
      "2        85.129997\n",
      "3        84.769997\n",
      "4        86.779999\n",
      "           ...    \n",
      "2285    124.589996\n",
      "2286    124.330002\n",
      "2287    125.180000\n",
      "2288    124.489998\n",
      "2289    122.543800\n",
      "Name: GLD, Length: 2290, dtype: float64\n"
     ]
    }
   ],
   "source": [
    "print(Y)"
   ]
  },
  {
   "cell_type": "code",
   "execution_count": 21,
   "id": "e104db5b",
   "metadata": {},
   "outputs": [
    {
     "name": "stdout",
     "output_type": "stream",
     "text": [
      "83.33354918388221 %\n"
     ]
    }
   ],
   "source": [
    "from sklearn.linear_model import LinearRegression\n",
    "from sklearn import metrics\n",
    "from sklearn.model_selection import train_test_split\n",
    "X_train, X_test, Y_train, Y_test = train_test_split(X, Y,test_size = 0.1, random_state = 0)\n",
    "model = LinearRegression()\n",
    "model.fit(X_train, Y_train)\n",
    "accuracy = model.score(X_test,Y_test)\n",
    "print(accuracy*100,'%')"
   ]
  },
  {
   "cell_type": "code",
   "execution_count": 22,
   "id": "4438290c",
   "metadata": {},
   "outputs": [
    {
     "name": "stdout",
     "output_type": "stream",
     "text": [
      "R2_score :  0.8236381589294605\n",
      "MSE :  79.28293640338522\n"
     ]
    }
   ],
   "source": [
    "import numpy as np\n",
    "\n",
    "y_pred = model.predict(X_test)\n",
    "\n",
    "print('R2_score : ',metrics.r2_score(y_pred,Y_test))\n",
    "print('MSE : ',metrics.mean_squared_error(y_pred,Y_test))"
   ]
  },
  {
   "cell_type": "code",
   "execution_count": 23,
   "id": "cdd6e3f1",
   "metadata": {},
   "outputs": [
    {
     "data": {
      "text/html": [
       "<div>\n",
       "<style scoped>\n",
       "    .dataframe tbody tr th:only-of-type {\n",
       "        vertical-align: middle;\n",
       "    }\n",
       "\n",
       "    .dataframe tbody tr th {\n",
       "        vertical-align: top;\n",
       "    }\n",
       "\n",
       "    .dataframe thead th {\n",
       "        text-align: right;\n",
       "    }\n",
       "</style>\n",
       "<table border=\"1\" class=\"dataframe\">\n",
       "  <thead>\n",
       "    <tr style=\"text-align: right;\">\n",
       "      <th></th>\n",
       "      <th>SPX</th>\n",
       "      <th>USO</th>\n",
       "      <th>SLV</th>\n",
       "      <th>EUR/USD</th>\n",
       "    </tr>\n",
       "  </thead>\n",
       "  <tbody>\n",
       "    <tr>\n",
       "      <th>1255</th>\n",
       "      <td>1692.770020</td>\n",
       "      <td>36.880001</td>\n",
       "      <td>20.980000</td>\n",
       "      <td>1.351698</td>\n",
       "    </tr>\n",
       "    <tr>\n",
       "      <th>2100</th>\n",
       "      <td>2425.530029</td>\n",
       "      <td>9.270000</td>\n",
       "      <td>14.990000</td>\n",
       "      <td>1.147394</td>\n",
       "    </tr>\n",
       "    <tr>\n",
       "      <th>711</th>\n",
       "      <td>1309.660034</td>\n",
       "      <td>42.049999</td>\n",
       "      <td>36.119999</td>\n",
       "      <td>1.410596</td>\n",
       "    </tr>\n",
       "    <tr>\n",
       "      <th>1328</th>\n",
       "      <td>1838.699951</td>\n",
       "      <td>33.689999</td>\n",
       "      <td>19.510000</td>\n",
       "      <td>1.361804</td>\n",
       "    </tr>\n",
       "    <tr>\n",
       "      <th>53</th>\n",
       "      <td>1298.420044</td>\n",
       "      <td>82.290001</td>\n",
       "      <td>18.250999</td>\n",
       "      <td>1.563893</td>\n",
       "    </tr>\n",
       "    <tr>\n",
       "      <th>...</th>\n",
       "      <td>...</td>\n",
       "      <td>...</td>\n",
       "      <td>...</td>\n",
       "      <td>...</td>\n",
       "    </tr>\n",
       "    <tr>\n",
       "      <th>1827</th>\n",
       "      <td>2066.659912</td>\n",
       "      <td>9.600000</td>\n",
       "      <td>14.340000</td>\n",
       "      <td>1.140498</td>\n",
       "    </tr>\n",
       "    <tr>\n",
       "      <th>746</th>\n",
       "      <td>1316.280029</td>\n",
       "      <td>39.279999</td>\n",
       "      <td>35.770000</td>\n",
       "      <td>1.409900</td>\n",
       "    </tr>\n",
       "    <tr>\n",
       "      <th>962</th>\n",
       "      <td>1338.349976</td>\n",
       "      <td>35.610001</td>\n",
       "      <td>27.420000</td>\n",
       "      <td>1.283203</td>\n",
       "    </tr>\n",
       "    <tr>\n",
       "      <th>703</th>\n",
       "      <td>1296.390015</td>\n",
       "      <td>40.910000</td>\n",
       "      <td>35.009998</td>\n",
       "      <td>1.393456</td>\n",
       "    </tr>\n",
       "    <tr>\n",
       "      <th>1146</th>\n",
       "      <td>1560.699951</td>\n",
       "      <td>33.599998</td>\n",
       "      <td>27.799999</td>\n",
       "      <td>1.301236</td>\n",
       "    </tr>\n",
       "  </tbody>\n",
       "</table>\n",
       "<p>229 rows × 4 columns</p>\n",
       "</div>"
      ],
      "text/plain": [
       "              SPX        USO        SLV   EUR/USD\n",
       "1255  1692.770020  36.880001  20.980000  1.351698\n",
       "2100  2425.530029   9.270000  14.990000  1.147394\n",
       "711   1309.660034  42.049999  36.119999  1.410596\n",
       "1328  1838.699951  33.689999  19.510000  1.361804\n",
       "53    1298.420044  82.290001  18.250999  1.563893\n",
       "...           ...        ...        ...       ...\n",
       "1827  2066.659912   9.600000  14.340000  1.140498\n",
       "746   1316.280029  39.279999  35.770000  1.409900\n",
       "962   1338.349976  35.610001  27.420000  1.283203\n",
       "703   1296.390015  40.910000  35.009998  1.393456\n",
       "1146  1560.699951  33.599998  27.799999  1.301236\n",
       "\n",
       "[229 rows x 4 columns]"
      ]
     },
     "execution_count": 23,
     "metadata": {},
     "output_type": "execute_result"
    }
   ],
   "source": [
    "X_test #the test data - predictors"
   ]
  },
  {
   "cell_type": "code",
   "execution_count": 24,
   "id": "9d2c0241",
   "metadata": {},
   "outputs": [
    {
     "data": {
      "text/plain": [
       "1255    128.789993\n",
       "2100    115.620003\n",
       "711     139.220001\n",
       "1328    120.930000\n",
       "53       93.040001\n",
       "           ...    \n",
       "1827    116.940002\n",
       "746     148.589996\n",
       "962     151.330002\n",
       "703     138.860001\n",
       "1146    154.000000\n",
       "Name: GLD, Length: 229, dtype: float64"
      ]
     },
     "execution_count": 24,
     "metadata": {},
     "output_type": "execute_result"
    }
   ],
   "source": [
    "Y_test #the actual values in test data - target column"
   ]
  },
  {
   "cell_type": "code",
   "execution_count": 25,
   "id": "4987d97f",
   "metadata": {
    "scrolled": false
   },
   "outputs": [
    {
     "data": {
      "text/plain": [
       "array([123.35331704, 119.18599536, 164.36402287, 120.65019774,\n",
       "        99.32394587, 141.9060249 , 124.6855032 , 109.91047834,\n",
       "       139.58298859, 113.20660895, 112.07380269, 121.42430603,\n",
       "        94.10114749, 145.27505014, 122.976612  , 116.33197208,\n",
       "        91.35406032,  95.8308489 ,  96.87223714, 118.60835987,\n",
       "        82.6145119 , 118.04205769, 122.41090392, 174.22466353,\n",
       "       172.46016873, 164.75568691, 116.74022561, 149.68225406,\n",
       "       126.68549616, 114.35090573, 119.77474914, 111.33477599,\n",
       "       122.56239537, 122.02995765, 103.83263203, 118.96785316,\n",
       "        80.71992464, 116.73577287, 122.46195605, 165.11227343,\n",
       "       105.52126712, 136.56264706, 106.18546221, 143.12398937,\n",
       "       138.067021  , 160.76649987, 120.87455343, 147.17513425,\n",
       "       147.68892033, 123.00962034, 116.44289364, 109.41781661,\n",
       "       117.12227205, 111.14466862, 139.59885451, 116.29611705,\n",
       "       115.43754832,  88.39798234, 141.76072786, 121.02626917,\n",
       "        95.4924892 , 116.74077559,  81.18500389, 191.87569815,\n",
       "       118.50396608, 122.83802011, 121.14248752, 112.36313841,\n",
       "       156.15969383, 123.54797999, 121.29901229, 173.81477412,\n",
       "       114.51689967, 158.74247796, 111.65683718, 128.04699074,\n",
       "       140.87664925, 118.99087147, 116.86341941, 148.26575127,\n",
       "       118.93831865, 119.48443112, 110.45865473, 119.91560476,\n",
       "       109.28383677, 147.51884729, 118.01639847, 115.4490512 ,\n",
       "       120.11935179, 104.69328043, 115.35773295, 112.28614588,\n",
       "        84.80008621, 146.84237985, 124.21120819, 118.8209946 ,\n",
       "        96.55093867, 100.6014964 , 145.79346224,  95.97390302,\n",
       "       142.95773085, 122.89430534, 124.24770161, 116.39234537,\n",
       "        94.40052371, 126.64161971, 116.97358153, 155.09968158,\n",
       "       112.88969959, 154.8937577 , 112.53383396, 154.56801816,\n",
       "       112.67055445, 119.67121275,  98.76657011, 157.17925852,\n",
       "       121.22923374, 105.8928713 ,  89.82456313, 118.46879435,\n",
       "       144.69381947,  91.81478744,  82.35591678, 121.66912268,\n",
       "       112.49199422, 123.80756201, 115.96518731, 128.54676502,\n",
       "       111.71646849, 105.56298422, 105.9517089 , 117.12681889,\n",
       "        97.55395782, 121.37985263, 114.910814  , 108.8529887 ,\n",
       "        78.8976093 , 123.50085139,  80.67340794, 114.08754462,\n",
       "       114.86888524, 143.63280942, 159.3135827 , 110.63680256,\n",
       "       156.88107428, 126.34646274, 118.35438236, 119.52738658,\n",
       "       120.46818007, 121.14604121, 148.01979507, 112.11532785,\n",
       "       123.54628679,  88.15393449, 121.1334763 , 108.44894565,\n",
       "        93.25766544, 108.91579775, 114.68995756,  91.78931381,\n",
       "       137.95983365, 187.67564685, 146.10661119, 113.86233347,\n",
       "       129.63034739, 118.43356291, 100.35495653, 120.76221839,\n",
       "       118.28454313, 117.68613801, 143.04868576, 123.00527638,\n",
       "        96.37844223, 113.34617325, 113.06314566, 121.45021337,\n",
       "       104.95419623, 115.17070977, 121.73555596, 120.99914638,\n",
       "        96.5838649 , 173.99638   , 121.4400176 , 117.30414   ,\n",
       "       154.11912998, 114.80951599, 107.36060366, 122.96392927,\n",
       "       123.98837017, 119.09511621, 117.33804646, 143.06648787,\n",
       "       144.20178   , 119.00239459, 147.6158906 , 140.24769391,\n",
       "       119.40825137, 121.83192178, 180.85291394, 114.97636358,\n",
       "       149.21210165,  92.62256135, 126.61562941,  95.29406816,\n",
       "       103.54469313,  95.93372695, 101.68744288, 109.76485743,\n",
       "       152.09727524, 148.05724613, 144.60781849, 121.23614109,\n",
       "       110.61807636, 125.839362  , 120.53693006,  95.05296625,\n",
       "       111.4796053 , 140.22500374, 105.26721178, 112.24198177,\n",
       "       146.7461144 ,  84.05268936, 120.24755163, 156.2693208 ,\n",
       "       114.6465138 , 164.03482121, 141.15214467, 161.36671441,\n",
       "       144.20282805])"
      ]
     },
     "execution_count": 25,
     "metadata": {},
     "output_type": "execute_result"
    }
   ],
   "source": [
    "y_pred"
   ]
  },
  {
   "cell_type": "code",
   "execution_count": 26,
   "id": "aa9993b2",
   "metadata": {},
   "outputs": [
    {
     "name": "stdout",
     "output_type": "stream",
     "text": [
      "69.81906580324966\n",
      "[ 7.15821702e-03 -2.41908638e-01  3.00933825e+00 -9.46756573e+00]\n"
     ]
    }
   ],
   "source": [
    "print(model.intercept_ ) #checking the intercept of model equation\n",
    "print(model.coef_)   #Checking the coefficients of model equation"
   ]
  },
  {
   "cell_type": "code",
   "execution_count": 27,
   "id": "88d49e56",
   "metadata": {},
   "outputs": [
    {
     "data": {
      "text/plain": [
       "1.0"
      ]
     },
     "execution_count": 27,
     "metadata": {},
     "output_type": "execute_result"
    }
   ],
   "source": [
    "Y_test = [1, 2, 3]\n",
    "y_pred = [1, 2, 3]\n",
    "metrics.r2_score(Y_test, y_pred)"
   ]
  }
 ],
 "metadata": {
  "kernelspec": {
   "display_name": "Python 3 (ipykernel)",
   "language": "python",
   "name": "python3"
  },
  "language_info": {
   "codemirror_mode": {
    "name": "ipython",
    "version": 3
   },
   "file_extension": ".py",
   "mimetype": "text/x-python",
   "name": "python",
   "nbconvert_exporter": "python",
   "pygments_lexer": "ipython3",
   "version": "3.9.12"
  }
 },
 "nbformat": 4,
 "nbformat_minor": 5
}
