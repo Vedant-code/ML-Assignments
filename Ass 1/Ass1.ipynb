{
 "cells": [
  {
   "cell_type": "code",
   "execution_count": 1,
   "id": "775f9fee",
   "metadata": {},
   "outputs": [],
   "source": [
    "import pandas as pd\n",
    "import numpy as np"
   ]
  },
  {
   "cell_type": "code",
   "execution_count": 2,
   "id": "fc888833",
   "metadata": {},
   "outputs": [
    {
     "name": "stdout",
     "output_type": "stream",
     "text": [
      "RangeIndex(start=0, stop=73827, step=1)\n"
     ]
    },
    {
     "data": {
      "text/plain": [
       "(73827, 8)"
      ]
     },
     "execution_count": 2,
     "metadata": {},
     "output_type": "execute_result"
    }
   ],
   "source": [
    "temp = pd.read_csv(\"apy_1.csv\")\n",
    "print(temp.index)\n",
    "temp.shape"
   ]
  },
  {
   "cell_type": "code",
   "execution_count": 3,
   "id": "bc69f80f",
   "metadata": {},
   "outputs": [
    {
     "name": "stdout",
     "output_type": "stream",
     "text": [
      "Index(['Unnamed: 0', 'State_Name', 'District_Name', 'Crop_Year', 'Season',\n",
      "       'Crop', 'Area', 'Production'],\n",
      "      dtype='object')\n",
      "(73827, 8)\n",
      "<class 'pandas.core.frame.DataFrame'>\n",
      "RangeIndex: 73827 entries, 0 to 73826\n",
      "Data columns (total 8 columns):\n",
      " #   Column         Non-Null Count  Dtype  \n",
      "---  ------         --------------  -----  \n",
      " 0   Unnamed: 0     73827 non-null  int64  \n",
      " 1   State_Name     73827 non-null  object \n",
      " 2   District_Name  73827 non-null  object \n",
      " 3   Crop_Year      73827 non-null  int64  \n",
      " 4   Season         73827 non-null  object \n",
      " 5   Crop           73827 non-null  object \n",
      " 6   Area           73827 non-null  float64\n",
      " 7   Production     72731 non-null  float64\n",
      "dtypes: float64(2), int64(2), object(4)\n",
      "memory usage: 4.5+ MB\n"
     ]
    }
   ],
   "source": [
    "print(temp.columns)\n",
    "print(temp.shape)\n",
    "temp.info()"
   ]
  },
  {
   "cell_type": "code",
   "execution_count": 4,
   "id": "73199eb5",
   "metadata": {},
   "outputs": [
    {
     "name": "stdout",
     "output_type": "stream",
     "text": [
      "   Unnamed: 0     State_Name  District_Name  Crop_Year       Season  \\\n",
      "0           0          Bihar        NALANDA       1997  Rabi          \n",
      "1           1          Assam  KARBI ANGLONG       2011  Whole Year    \n",
      "2           2        Gujarat          ANAND       2012  Summer        \n",
      "3           3      Karnataka   UTTAR KANNAD       2005  Rabi          \n",
      "4           4  Uttar Pradesh        JAUNPUR       2008  Rabi          \n",
      "\n",
      "        Crop     Area  Production  \n",
      "0      Wheat  81934.0    160425.0  \n",
      "1      Onion    257.0       514.0  \n",
      "2      Maize    100.0       100.0  \n",
      "3  Groundnut   2872.0      4572.0  \n",
      "4      Onion    110.0      1290.0  \n"
     ]
    }
   ],
   "source": [
    "print(temp.head())"
   ]
  },
  {
   "cell_type": "code",
   "execution_count": 5,
   "id": "a260eed7",
   "metadata": {},
   "outputs": [
    {
     "name": "stdout",
     "output_type": "stream",
     "text": [
      "       Unnamed: 0      State_Name District_Name  Crop_Year       Season  \\\n",
      "73822       73822           Bihar         BUXAR       2004  Whole Year    \n",
      "73823       73823  Madhya Pradesh       RAJGARH       2013  Kharif        \n",
      "73824       73824  Madhya Pradesh       RAJGARH       1998  Kharif        \n",
      "73825       73825       Rajasthan          TONK       2000  Kharif        \n",
      "73826       73826       Jharkhand       KODERMA       2002  Winter        \n",
      "\n",
      "            Crop      Area  Production  \n",
      "73822      Onion    203.00     1918.00  \n",
      "73823      Bajra     12.00       11.00  \n",
      "73824  Groundnut   8700.00     9100.00  \n",
      "73825      Bajra  34477.00    20137.00  \n",
      "73826       Rice  14685.71    18552.95  \n"
     ]
    }
   ],
   "source": [
    "print(temp.tail())"
   ]
  },
  {
   "cell_type": "code",
   "execution_count": 6,
   "id": "f912c08b",
   "metadata": {},
   "outputs": [
    {
     "data": {
      "text/plain": [
       "Unnamed: 0       73827\n",
       "State_Name          33\n",
       "District_Name      646\n",
       "Crop_Year           19\n",
       "Season               6\n",
       "Crop               122\n",
       "Area             17798\n",
       "Production       22196\n",
       "dtype: int64"
      ]
     },
     "execution_count": 6,
     "metadata": {},
     "output_type": "execute_result"
    }
   ],
   "source": [
    "# to know unique values \n",
    "temp.nunique()"
   ]
  },
  {
   "cell_type": "code",
   "execution_count": 7,
   "id": "8f2e77ec",
   "metadata": {},
   "outputs": [
    {
     "data": {
      "text/plain": [
       "Unnamed: 0          0\n",
       "State_Name          0\n",
       "District_Name       0\n",
       "Crop_Year           0\n",
       "Season              0\n",
       "Crop                0\n",
       "Area                0\n",
       "Production       1096\n",
       "dtype: int64"
      ]
     },
     "execution_count": 7,
     "metadata": {},
     "output_type": "execute_result"
    }
   ],
   "source": [
    "temp.isna().sum()"
   ]
  },
  {
   "cell_type": "code",
   "execution_count": 8,
   "id": "61d546f1",
   "metadata": {},
   "outputs": [
    {
     "data": {
      "text/plain": [
       "Unnamed: 0          0\n",
       "State_Name          0\n",
       "District_Name       0\n",
       "Crop_Year           0\n",
       "Season              0\n",
       "Crop                0\n",
       "Area                0\n",
       "Production       1096\n",
       "dtype: int64"
      ]
     },
     "execution_count": 8,
     "metadata": {},
     "output_type": "execute_result"
    }
   ],
   "source": [
    "temp.isnull().sum()"
   ]
  },
  {
   "cell_type": "code",
   "execution_count": 9,
   "id": "723678e3",
   "metadata": {},
   "outputs": [
    {
     "name": "stdout",
     "output_type": "stream",
     "text": [
      "         Unnamed: 0     Crop_Year          Area    Production\n",
      "count  73827.000000  73827.000000  7.382700e+04  7.273100e+04\n",
      "mean   36913.000000   2005.657551  1.218297e+04  6.210320e+05\n",
      "std    21312.163499      4.954910  5.348285e+04  1.749756e+07\n",
      "min        0.000000   1997.000000  4.000000e-02  0.000000e+00\n",
      "25%    18456.500000   2002.000000  8.100000e+01  8.900000e+01\n",
      "50%    36913.000000   2006.000000  5.900000e+02  7.290000e+02\n",
      "75%    55369.500000   2010.000000  4.500000e+03  7.200000e+03\n",
      "max    73826.000000   2015.000000  8.580100e+06  1.125000e+09\n"
     ]
    }
   ],
   "source": [
    "print(temp.describe())"
   ]
  },
  {
   "cell_type": "code",
   "execution_count": 10,
   "id": "902d995b",
   "metadata": {},
   "outputs": [
    {
     "name": "stdout",
     "output_type": "stream",
     "text": [
      "Unnamed: 0     36913.000000\n",
      "Crop_Year       2005.657551\n",
      "Area           12182.973146\n",
      "Production    621031.953358\n",
      "dtype: float64\n",
      "Unnamed: 0    36913.0\n",
      "Crop_Year      2006.0\n",
      "Area            590.0\n",
      "Production      729.0\n",
      "dtype: float64\n",
      "       Unnamed: 0     State_Name District_Name  Crop_Year       Season  Crop  \\\n",
      "0               0  Uttar Pradesh       BIJAPUR     2003.0  Kharif       Rice   \n",
      "1               1            NaN           NaN        NaN          NaN   NaN   \n",
      "2               2            NaN           NaN        NaN          NaN   NaN   \n",
      "3               3            NaN           NaN        NaN          NaN   NaN   \n",
      "4               4            NaN           NaN        NaN          NaN   NaN   \n",
      "...           ...            ...           ...        ...          ...   ...   \n",
      "73822       73822            NaN           NaN        NaN          NaN   NaN   \n",
      "73823       73823            NaN           NaN        NaN          NaN   NaN   \n",
      "73824       73824            NaN           NaN        NaN          NaN   NaN   \n",
      "73825       73825            NaN           NaN        NaN          NaN   NaN   \n",
      "73826       73826            NaN           NaN        NaN          NaN   NaN   \n",
      "\n",
      "       Area  Production  \n",
      "0       1.0         1.0  \n",
      "1       NaN         NaN  \n",
      "2       NaN         NaN  \n",
      "3       NaN         NaN  \n",
      "4       NaN         NaN  \n",
      "...     ...         ...  \n",
      "73822   NaN         NaN  \n",
      "73823   NaN         NaN  \n",
      "73824   NaN         NaN  \n",
      "73825   NaN         NaN  \n",
      "73826   NaN         NaN  \n",
      "\n",
      "[73827 rows x 8 columns]\n",
      "12182.973146138953\n",
      "590.0\n",
      "0    1.0\n",
      "Name: Area, dtype: float64\n"
     ]
    },
    {
     "name": "stderr",
     "output_type": "stream",
     "text": [
      "C:\\Users\\Lenovo\\AppData\\Local\\Temp\\ipykernel_7352\\317555596.py:2: FutureWarning: Dropping of nuisance columns in DataFrame reductions (with 'numeric_only=None') is deprecated; in a future version this will raise TypeError.  Select only valid columns before calling the reduction.\n",
      "  print(temp.mean())\n",
      "C:\\Users\\Lenovo\\AppData\\Local\\Temp\\ipykernel_7352\\317555596.py:3: FutureWarning: Dropping of nuisance columns in DataFrame reductions (with 'numeric_only=None') is deprecated; in a future version this will raise TypeError.  Select only valid columns before calling the reduction.\n",
      "  print(temp.median())\n"
     ]
    }
   ],
   "source": [
    "#Measure of central tendency\n",
    "print(temp.mean())\n",
    "print(temp.median())\n",
    "print(temp.mode())\n",
    "print(temp['Area'].mean())\n",
    "print(temp['Area'].median())\n",
    "print(temp['Area'].mode())"
   ]
  },
  {
   "cell_type": "code",
   "execution_count": 11,
   "id": "93cc0443",
   "metadata": {},
   "outputs": [
    {
     "name": "stdout",
     "output_type": "stream",
     "text": [
      "Variance of Area column:  2860415014.457252\n",
      "Standard Deviation of Area column:  53482.8478529075\n",
      "Mean Absolute Deviation of Area column 18070.698246088185\n",
      "Range of values in Area column:  8580099.96\n",
      "First Quartile:  81.0   Thrid Quartile:  4500.0\n",
      "Inter-Quartile Range:  4419.0\n"
     ]
    }
   ],
   "source": [
    "#Measure of Variability\n",
    "print(\"Variance of Area column: \", temp['Area'].var())\n",
    "print(\"Standard Deviation of Area column: \", temp['Area'].std())\n",
    "\n",
    "# mean (average) absolute deviation\n",
    "print(\"Mean Absolute Deviation of Area column\", temp['Area'].mad())\n",
    "\n",
    "#range\n",
    "range1 = max(temp['Area'])-min(temp['Area'])\n",
    "print(\"Range of values in Area column: \",range1)\n",
    "\n",
    "#IQR\n",
    "Q1 = np.percentile(temp['Area'], 25)\n",
    "Q3 = np.percentile(temp['Area'], 75)\n",
    "print(\"First Quartile: \",Q1,\" \", \"Thrid Quartile: \", Q3)\n",
    "IQR = Q3 - Q1\n",
    "print(\"Inter-Quartile Range: \", IQR)"
   ]
  },
  {
   "cell_type": "code",
   "execution_count": 12,
   "id": "f36942f0",
   "metadata": {},
   "outputs": [
    {
     "name": "stdout",
     "output_type": "stream",
     "text": [
      "[4.0000e-02 5.0000e-02 7.0000e-02 ... 3.1799e+06 3.3047e+06 8.5801e+06] [1 1 1 ... 1 1 1]\n"
     ]
    }
   ],
   "source": [
    "#Measure of frequency destribution\n",
    "unique, counts = np.unique(temp['Area'], return_counts=True)\n",
    "print(unique, counts)"
   ]
  },
  {
   "cell_type": "code",
   "execution_count": 13,
   "id": "ece0342d",
   "metadata": {},
   "outputs": [
    {
     "name": "stdout",
     "output_type": "stream",
     "text": [
      "[[ 1. nan]\n",
      " [nan nan]]\n",
      "\n",
      "\n",
      "\n",
      "                Area  Production\n",
      "Area        1.000000    0.041043\n",
      "Production  0.041043    1.000000\n"
     ]
    }
   ],
   "source": [
    "matrix = np.corrcoef(temp['Area'], temp['Production'])\n",
    "print(matrix)\n",
    "print('\\n\\n')\n",
    "print(temp[['Area', 'Production']].corr())"
   ]
  },
  {
   "cell_type": "code",
   "execution_count": 14,
   "id": "a4101036",
   "metadata": {},
   "outputs": [
    {
     "name": "stdout",
     "output_type": "stream",
     "text": [
      "            Unnamed: 0  Crop_Year      Area  Production\n",
      "Unnamed: 0    1.000000  -0.002016  0.000864    0.001313\n",
      "Crop_Year    -0.002016   1.000000 -0.023720    0.007422\n",
      "Area          0.000864  -0.023720  1.000000    0.041043\n",
      "Production    0.001313   0.007422  0.041043    1.000000\n"
     ]
    }
   ],
   "source": [
    "matrix = temp.corr()\n",
    "print(matrix)"
   ]
  },
  {
   "cell_type": "code",
   "execution_count": null,
   "id": "e393ca14",
   "metadata": {
    "scrolled": false
   },
   "outputs": [],
   "source": [
    "import seaborn as sns\n",
    "sns.pairplot(temp)"
   ]
  },
  {
   "cell_type": "code",
   "execution_count": null,
   "id": "7ed736a9",
   "metadata": {},
   "outputs": [],
   "source": [
    "import seaborn as sns\n",
    "print(temp[temp['State_Name']=='Gujrat'].corr())\n",
    "sns.pairplot(temp[temp['State_Name']=='Gujrat'])"
   ]
  },
  {
   "cell_type": "code",
   "execution_count": null,
   "id": "e4d41942",
   "metadata": {},
   "outputs": [],
   "source": [
    "import matplotlib.pyplot as plt\n",
    "bxplt = sns.boxplot(temp['Production'])\n",
    "plt.show()"
   ]
  },
  {
   "cell_type": "code",
   "execution_count": null,
   "id": "46b63f55",
   "metadata": {},
   "outputs": [],
   "source": [
    "Q1 = np.percentile(temp['Production'], 25.) # 25th percentile of the data of the given feature\n",
    "Q3 = np.percentile(temp['Production'], 75.) # 75th percentile of the data of the given feature\n",
    "IQR = Q3-Q1 #Interquartile Range\n",
    "#outlier_step = IQR * 1.5 #That's we were talking about above\n",
    "#outliers = feature_data[~((feature_data >= Q1 - outlier_step) & (feature_data <= Q3 + outlier_step))].index.tolist()\n",
    "ll = Q1 - (1.5*IQR)\n",
    "ul = Q3 + (1.5*IQR)\n",
    "upper_outliers = temp[temp['Production'] > ul].index.tolist()\n",
    "lower_outliers = temp[temp['Production'] < ll].index.tolist()\n",
    "bad_indices = list(set(upper_outliers + lower_outliers))\n",
    "drop = True\n",
    "#if not drop:\n",
    "    #print('For the feature {}, No of Outliers is {}'.format(temp['sepal.width'], len(bad_indices)))\n",
    "if drop:\n",
    "    temp.drop(bad_indices, inplace = True, errors = 'ignore')\n",
    "    print('Outliers from {} feature removed'.format(temp['Production']))"
   ]
  },
  {
   "cell_type": "code",
   "execution_count": null,
   "id": "9993d28c",
   "metadata": {},
   "outputs": [],
   "source": [
    "bxplt = sns.boxplot(temp['Production'])\n",
    "plt.show()"
   ]
  }
 ],
 "metadata": {
  "kernelspec": {
   "display_name": "Python 3 (ipykernel)",
   "language": "python",
   "name": "python3"
  },
  "language_info": {
   "codemirror_mode": {
    "name": "ipython",
    "version": 3
   },
   "file_extension": ".py",
   "mimetype": "text/x-python",
   "name": "python",
   "nbconvert_exporter": "python",
   "pygments_lexer": "ipython3",
   "version": "3.9.12"
  }
 },
 "nbformat": 4,
 "nbformat_minor": 5
}
